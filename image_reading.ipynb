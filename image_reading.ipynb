{
 "cells": [
  {
   "cell_type": "code",
   "execution_count": 1,
   "id": "bdf3b226",
   "metadata": {},
   "outputs": [],
   "source": [
    "import cv2 as cv\n",
    "import numpy as np\n",
    "import matplotlib\n",
    "from matplotlib import pyplot as plt"
   ]
  },
  {
   "cell_type": "code",
   "execution_count": 2,
   "id": "c0800d74",
   "metadata": {},
   "outputs": [
    {
     "data": {
      "text/plain": [
       "<matplotlib.image.AxesImage at 0x1e7133b4ac0>"
      ]
     },
     "execution_count": 2,
     "metadata": {},
     "output_type": "execute_result"
    },
    {
     "data": {
      "image/png": "[encoded data removed]",
      "text/plain": [
       "<Figure size 400x400 with 1 Axes>"
      ]
     },
     "metadata": {},
     "output_type": "display_data"
    }
   ],
   "source": [
    "#Loe pilt\n",
    "img_rgb = cv.imread('images/puzzle8_2.PNG')\n",
    "# Mustvalge igaks juhuks\n",
    "img_gray = cv.cvtColor(img_rgb, cv.COLOR_BGR2GRAY)\n",
    "\n",
    "plt.figure(figsize=(4,4))\n",
    "plt.imshow(img_rgb)"
   ]
  },
  {
   "cell_type": "code",
   "execution_count": 3,
   "id": "ee130777",
   "metadata": {},
   "outputs": [],
   "source": [
    "#meetod matchTemplate kasutades ruutude asukohtade leidmiseks\n",
    "#puzzle_rgb-pilt, folder - kaust(olenevalt suuruses images kausta sees olev kaust), templateFile - template mida kasutatakse\n",
    "# allFound - järjend, kus kõik asukohad kirjas\n",
    "def findTemplate(puzzle_rgb,templateFile,version,allFound):\n",
    "    template = cv.imread('images/' + 'square'+templateFile+'/' + version + '.PNG')\n",
    "    templates = []\n",
    "    #lisame template 4 erinevat pidi, et kõikvõimalikud leitakse\n",
    "    templates.append(template)\n",
    "    templates.append(cv.rotate(template, cv.ROTATE_90_CLOCKWISE))\n",
    "    templates.append(cv.rotate(template, cv.ROTATE_90_COUNTERCLOCKWISE))\n",
    "    templates.append(cv.rotate(template, cv.ROTATE_180))\n",
    "    w, h = template.shape[::-2]\n",
    "    for i in range(len(templates)):\n",
    "        res = cv.matchTemplate(puzzle_rgb,templates[i], cv.TM_CCOEFF_NORMED)\n",
    "        #0.82 hetkel maksimaalne threshold, mis leiab pea alati mingi versiooni lauast\n",
    "        # kõrgema korral enamasti mingeid ruutusid ei leia\n",
    "        threshold = 0.96\n",
    "        loc = np.where(res >= threshold)\n",
    "        for pt in zip(*loc[::-1]):\n",
    "            alreadyThere = False\n",
    "            for found in allFound:\n",
    "                #iga leitud asukoha korral kontrollime ega tegemist pole juba leitud ruuduga\n",
    "                if abs(found[0] - pt[0]) < 10 and abs(found[1]-pt[1]) < 10:\n",
    "                    alreadyThere = True\n",
    "                    break\n",
    "            if not alreadyThere:\n",
    "                #kui pole varem leitud ruut, lisame vastavalt nimele selle allFoundi\n",
    "                #'None' template ehk hetkel tühi ruut on None tüüpi\n",
    "                if templateFile == 'None':\n",
    "                    allFound.append((pt[0],pt[1],None))\n",
    "                #2 korral ehk poolringi taolisel ruudul on 4 erinevat varianti, nii et anname vastavalt järjekorrale õige variandi\n",
    "                elif templateFile == '2':\n",
    "                    allFound.append((pt[0],pt[1],int(templateFile)*(i+1)))\n",
    "                else:\n",
    "                    allFound.append((pt[0],pt[1],int(templateFile)))\n",
    "                # rectangle(pilt, algusnurk (koordinaadid), lõppnurk, värv (BGR), joone paksus)\n",
    "                cv.rectangle(puzzle_rgb, pt, (pt[0]+w, pt[1]+h), (0,255,255), 1)"
   ]
  },
  {
   "cell_type": "code",
   "execution_count": 4,
   "id": "eed60379",
   "metadata": {},
   "outputs": [],
   "source": [
    "#meetod kõikide ruutude leidmiseks ja kontrolliks kas pikkus on vastav (variandid 6x6,8x8,10x10,15x15)\n",
    "def getPuzzle(img_rgb):\n",
    "    allFound = []\n",
    "    sizes = [6,8,10,15]\n",
    "    templates = ['0','2','1','5','None']\n",
    "    for template in templates:\n",
    "        for i in range(1,6):\n",
    "            img_copy = img_rgb.copy()\n",
    "            findTemplate(img_copy,template,'Version' + str(i),allFound)\n",
    "    for i in allFound:\n",
    "        if i[2] is not None:\n",
    "            print(i)\n",
    "    print(len(allFound))\n",
    "    for size in sizes:\n",
    "        if len(allFound) == size**2 or len(allFound) + 1 == size**2:\n",
    "            return allFound\n",
    "    return None"
   ]
  },
  {
   "cell_type": "code",
   "execution_count": 5,
   "id": "b9784a23",
   "metadata": {},
   "outputs": [
    {
     "name": "stdout",
     "output_type": "stream",
     "text": [
      "(75, 154, 6)\n",
      "(260, 150, 1)\n",
      "(229, 243, 1)\n",
      "64\n"
     ]
    }
   ],
   "source": [
    "currentPuzzle = getPuzzle(img_rgb)"
   ]
  },
  {
   "cell_type": "code",
   "execution_count": 6,
   "id": "385b5b4f",
   "metadata": {},
   "outputs": [],
   "source": [
    "#meetod ruutude sorteerimiseks ja seejärel rea ja veeru kaupa täpsustamiseks asukohta, et ühtlased read ja veerud saada\n",
    "def levelRowsAndColumns(allFound):\n",
    "    sortedSquares = sorted(allFound, key=lambda element: (element[1]))\n",
    "    for i in range(len(sortedSquares)):\n",
    "        if 0 < sortedSquares[i][1] - sortedSquares[i-1][1] < 20:\n",
    "            sortedSquares[i] = (sortedSquares[i][0],sortedSquares[i-1][1],sortedSquares[i][2])\n",
    "    sortedSquares = sorted(sortedSquares, key=lambda element: (element[0]))\n",
    "    for i in range(len(sortedSquares)):\n",
    "        if 0 < sortedSquares[i][0] - sortedSquares[i-1][0] < 20:\n",
    "            sortedSquares[i] = (sortedSquares[i-1][0],sortedSquares[i][1],sortedSquares[i][2])\n",
    "    sortedSquares = sorted(sortedSquares, key=lambda element: (element[1],element[0]))\n",
    "    \n",
    "    return sortedSquares"
   ]
  },
  {
   "cell_type": "code",
   "execution_count": 7,
   "id": "521bb46a",
   "metadata": {},
   "outputs": [],
   "source": [
    "def fixMissingOne(allFound):\n",
    "\n",
    "    counts_x = {}\n",
    "    counts_y = {}\n",
    "\n",
    "    for t in allFound:\n",
    "        if t[0] in counts_x:\n",
    "            counts_x[t[0]] += 1\n",
    "        else:\n",
    "            counts_x[t[0]] = 1\n",
    "\n",
    "        if t[1] in counts_y:\n",
    "            counts_y[t[1]] += 1\n",
    "        else:\n",
    "            counts_y[t[1]] = 1\n",
    "            \n",
    "    min_count_x = min(counts_x.values())\n",
    "    \n",
    "    outliers_x = [k for k, v in counts_x.items() if v == min_count_x]\n",
    "    \n",
    "    min_count_y = min(counts_y.values())\n",
    "\n",
    "    outliers_y = [k for k, v in counts_y.items() if v == min_count_y]\n",
    "    if min_count_x + 1 == max(counts_x.values()) and min_count_y + 1 == max(counts_y.values()) and len(outliers_x) == 1 and len(outliers_y) == 1:\n",
    "        allFound.append((outliers_x[0],outliers_y[0],None))\n",
    "        allFound = sorted(allFound, key=lambda element: (element[1],element[0]))\n",
    "        return allFound\n",
    "    \n",
    "    return None"
   ]
  },
  {
   "cell_type": "code",
   "execution_count": 8,
   "id": "d9d4bfb2",
   "metadata": {},
   "outputs": [],
   "source": [
    "#lõplikusse järjendite järjendisse viimine\n",
    "def coordinatesToArray(allFound):\n",
    "    if allFound is None:\n",
    "        return\n",
    "    \n",
    "    correct = None\n",
    "    #fikseerime numbrid\n",
    "    allFound = levelRowsAndColumns(allFound)\n",
    "    print(allFound[43])\n",
    "    allFound.pop(43)\n",
    "    length = len(allFound)\n",
    "    #leiame rea suuruse\n",
    "    rowLength = -1\n",
    "    for i in range(1,16):\n",
    "        #kui pikkus on arvu ruut, on reapikkus leitud\n",
    "        if length == i**2:\n",
    "            rowLength = i\n",
    "            break\n",
    "        #kui üks puudu, proovime lisada tühja ruudu\n",
    "        if length + 1 == i**2:\n",
    "            allFound = fixMissingOne(allFound)\n",
    "            if allFound is not None:\n",
    "                rowLength = i\n",
    "                break\n",
    "            else:\n",
    "                return None\n",
    "    if rowLength == -1:\n",
    "        return None\n",
    "    fullMatrix = []\n",
    "    #viime ridadesse vastava reapikkuse kaupa\n",
    "    for i in range(rowLength):\n",
    "        row = [t[2] for t in allFound[i*rowLength:i*rowLength+rowLength]]\n",
    "        fullMatrix.append(row)\n",
    "    return fullMatrix"
   ]
  },
  {
   "cell_type": "code",
   "execution_count": 9,
   "id": "fd52a5cc",
   "metadata": {},
   "outputs": [],
   "source": [
    "def findNumbers(img):\n",
    "    allNumbers = []\n",
    "    for i in range(10):\n",
    "        template = cv.imread('images/numbers/' + str(i) + '.PNG')\n",
    "        res = cv.matchTemplate(img,template, cv.TM_CCOEFF_NORMED)\n",
    "        threshold = 0.9\n",
    "        loc = np.where(res >= threshold)\n",
    "        w, h = template.shape[::-2]\n",
    "        for pt in zip(*loc[::-1]):\n",
    "            alreadyThere = False\n",
    "            for found in allNumbers:\n",
    "                if abs(found[0] - pt[0]) < 10 and abs(found[1]-pt[1]) < 10:\n",
    "                    alreadyThere = True\n",
    "                    break\n",
    "            if not alreadyThere:\n",
    "                allNumbers.append((pt[0],pt[1],i))\n",
    "                # rectangle(pilt, algusnurk (koordinaadid), lõppnurk, värv (BGR), joone paksus)\n",
    "                cv.rectangle(img, pt, (pt[0]+w, pt[1]+h), (0,255,255), 1)\n",
    "    allNumbers = levelRowsAndColumns(allNumbers)\n",
    "    side = [x[2] for x in allNumbers[:int(len(allNumbers)/2)]]\n",
    "    up = [x[2] for x in allNumbers[int(len(allNumbers)/2):]]\n",
    "    return up,side"
   ]
  },
  {
   "cell_type": "code",
   "execution_count": 10,
   "id": "8a7688f5",
   "metadata": {},
   "outputs": [
    {
     "name": "stdout",
     "output_type": "stream",
     "text": [
      "(136, 182, None)\n",
      "fine\n",
      "136 182 None\n",
      "[[None, None, None, None, None, None, None, None], [None, None, None, None, None, None, None, None], [None, None, None, None, None, None, None, None], [None, None, None, None, None, None, None, None], [None, 6, None, None, None, None, None, 1], [None, None, None, None, None, None, None, None], [None, None, None, None, None, None, None, None], [None, None, None, None, None, None, 1, None]]\n"
     ]
    }
   ],
   "source": [
    "print(coordinatesToArray(currentPuzzle))"
   ]
  },
  {
   "cell_type": "code",
   "execution_count": 11,
   "id": "4888f1c2",
   "metadata": {},
   "outputs": [
    {
     "data": {
      "text/plain": [
       "([0, 5, 0, 2, 2], [2, 2, 3, 2, 5])"
      ]
     },
     "execution_count": 11,
     "metadata": {},
     "output_type": "execute_result"
    }
   ],
   "source": [
    "findNumbers(img_rgb)"
   ]
  }
 ],
 "metadata": {
  "kernelspec": {
   "display_name": "Python 3 (ipykernel)",
   "language": "python",
   "name": "python3"
  },
  "language_info": {
   "codemirror_mode": {
    "name": "ipython",
    "version": 3
   },
   "file_extension": ".py",
   "mimetype": "text/x-python",
   "name": "python",
   "nbconvert_exporter": "python",
   "pygments_lexer": "ipython3",
   "version": "3.9.13"
  }
 },
 "nbformat": 4,
 "nbformat_minor": 5
}
