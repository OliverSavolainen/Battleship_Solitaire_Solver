{
 "cells": [
  {
   "cell_type": "code",
   "execution_count": 1,
   "id": "bdf3b226",
   "metadata": {},
   "outputs": [],
   "source": [
    "import cv2 as cv\n",
    "import numpy as np\n",
    "import matplotlib\n",
    "from matplotlib import pyplot as plt\n",
    "import pytesseract\n",
    "#kasutame pytesseracti libraryt numbrite äratundmiseks\n",
    "pytesseract.pytesseract.tesseract_cmd = 'C:\\\\Program Files\\\\Tesseract-OCR\\\\tesseract'"
   ]
  },
  {
   "cell_type": "code",
   "execution_count": 2,
   "id": "c0800d74",
   "metadata": {},
   "outputs": [
    {
     "data": {
      "text/plain": [
       "<matplotlib.image.AxesImage at 0x2a8c91ad550>"
      ]
     },
     "execution_count": 2,
     "metadata": {},
     "output_type": "execute_result"
    },
    {
     "data": {
      "image/png": "[encoded data removed]",
      "text/plain": [
       "<Figure size 400x400 with 1 Axes>"
      ]
     },
     "metadata": {},
     "output_type": "display_data"
    }
   ],
   "source": [
    "#Loe pilt\n",
    "img_rgb = cv.imread('images/puzzle6.PNG')\n",
    "# Mustvalge igaks juhuks\n",
    "img_gray = cv.cvtColor(img_rgb, cv.COLOR_BGR2GRAY)\n",
    "\n",
    "plt.figure(figsize=(4,4))\n",
    "plt.imshow(img_rgb)"
   ]
  },
  {
   "cell_type": "code",
   "execution_count": 3,
   "id": "ee130777",
   "metadata": {},
   "outputs": [],
   "source": [
    "#meetod matchTemplate kasutades ruutude asukohtade leidmiseks\n",
    "#puzzle_rgb-pilt, folder - kaust(olenevalt suuruses images kausta sees olev kaust), templateFile - template mida kasutatakse\n",
    "# allFound - järjend, kus kõik asukohad kirjas\n",
    "def findTemplate(puzzle_rgb,folder,templateFile,allFound):\n",
    "    template = cv.imread('images/' + folder + templateFile + '.PNG')\n",
    "    templates = []\n",
    "    #lisame template 4 erinevat pidi, et kõikvõimalikud leitakse\n",
    "    templates.append(template)\n",
    "    templates.append(cv.flip(template, 1))\n",
    "    templates.append(cv.flip(template, -1))\n",
    "    templates.append(cv.flip(template, 0))\n",
    "    w, h = template.shape[::-2]\n",
    "    for i in range(len(templates)):\n",
    "        res = cv.matchTemplate(puzzle_rgb,templates[i], cv.TM_CCOEFF_NORMED)\n",
    "        #0.82 hetkel maksimaalne threshold, mis leiab pea alati mingi versiooni lauast\n",
    "        # kõrgema korral enamasti mingeid ruutusid ei leia\n",
    "        threshold = 0.82\n",
    "        loc = np.where(res >= threshold)\n",
    "        for pt in zip(*loc[::-1]):\n",
    "            alreadyThere = False\n",
    "            for found in allFound:\n",
    "                #iga leitud asukoha korral kontrollime ega tegemist pole juba leitud ruuduga\n",
    "                if abs(found[0] - pt[0]) < 10 and abs(found[1]-pt[1]) < 10:\n",
    "                    alreadyThere = True\n",
    "                    break\n",
    "            if not alreadyThere:\n",
    "                #kui pole varem leitud ruut, lisame vastavalt nimele selle allFoundi\n",
    "                #'None' template ehk hetkel tühi ruut on None tüüpi\n",
    "                if templateFile == 'None':\n",
    "                    allFound.append((pt[0],pt[1],None))\n",
    "                #2 korral ehk poolringi taolisel ruudul on 4 erinevat varianti, nii et anname vastavalt järjekorrale õige variandi\n",
    "                elif templateFile == '2':\n",
    "                    allFound.append((pt[0],pt[1],int(templateFile)*(i+1)))\n",
    "                else:\n",
    "                    allFound.append((pt[0],pt[1],int(templateFile)))\n",
    "                # rectangle(pilt, algusnurk (koordinaadid), lõppnurk, värv (BGR), joone paksus)\n",
    "                cv.rectangle(puzzle_rgb, pt, (pt[0]+w, pt[1]+h), (0,255,255), 1)\n",
    "\n",
    "    #plt.imshow(puzzle_rgb)\n",
    "    "
   ]
  },
  {
   "cell_type": "code",
   "execution_count": 4,
   "id": "eed60379",
   "metadata": {},
   "outputs": [],
   "source": [
    "#meetod kõikide ruutude leidmiseks ja kontrolliks kas pikkus on vastav (variandid 6x6,8x8,10x10,15x15)\n",
    "def getPuzzle(img_rgb):\n",
    "    allFound = []\n",
    "    sizes = [6,8,10,15]\n",
    "    templates = ['None','0','1','2','5']\n",
    "    #käime kõik variandid läbi alustades sellest, et vaatame, kas 6 kausta templatedega on 36 ruutu, 8 omadega 64 jne\n",
    "    #ja siis ka kõik muud nagu nätieks 6 templatedega on 100 ruutu\n",
    "    for i in range(len(sizes)):\n",
    "        for j in range(len(sizes)):\n",
    "            img_copy = img_rgb.copy()\n",
    "            for template in templates:\n",
    "                findTemplate(img_copy,str(sizes[j])+'/',template,allFound)\n",
    "            comp = i+j\n",
    "            #kui oleme järjendi lõppu jõudnud selle j korral, alustame algusest\n",
    "            if comp >= len(sizes):\n",
    "                comp -= len(sizes)\n",
    "            if len(allFound) == sizes[comp]**2:\n",
    "                return allFound\n",
    "            allFound = []\n",
    "    return None"
   ]
  },
  {
   "cell_type": "code",
   "execution_count": 5,
   "id": "b9784a23",
   "metadata": {},
   "outputs": [],
   "source": [
    "currentPuzzle = getPuzzle(img_rgb)"
   ]
  },
  {
   "cell_type": "code",
   "execution_count": 6,
   "id": "385b5b4f",
   "metadata": {},
   "outputs": [],
   "source": [
    "#meetod ruutude sorteerimiseks ja seejärel rea ja veeru kaupa täpsustamiseks asukohta, et ühtlased read ja veerud saada\n",
    "def fixNumbers(allFound):\n",
    "    sortedSquares = sorted(allFound, key=lambda element: (element[1]))\n",
    "    for i in range(len(sortedSquares)):\n",
    "        if 0 < sortedSquares[i][1] - sortedSquares[i-1][1] < 20:\n",
    "            sortedSquares[i] = (sortedSquares[i][0],sortedSquares[i-1][1],sortedSquares[i][2])\n",
    "    sortedSquares = sorted(sortedSquares, key=lambda element: (element[0]))\n",
    "    for i in range(len(sortedSquares)):\n",
    "        if 0 < sortedSquares[i][0] - sortedSquares[i-1][0] < 20:\n",
    "            sortedSquares[i] = (sortedSquares[i-1][0],sortedSquares[i][1],sortedSquares[i][2])\n",
    "    sortedSquares = sorted(sortedSquares, key=lambda element: (element[1],element[0]))\n",
    "    return sortedSquares"
   ]
  },
  {
   "cell_type": "code",
   "execution_count": 7,
   "id": "d9d4bfb2",
   "metadata": {},
   "outputs": [],
   "source": [
    "#lõplikusse järjendite järjendisse viimine\n",
    "def coordinatesToArray(allFound):\n",
    "    if allFound == None:\n",
    "        return\n",
    "    length = len(allFound)\n",
    "    correct = None.\n",
    "    #leiame suuruse\n",
    "    possibleOptions = [36,64,100,225]\n",
    "    for i in range(len(possibleOptions)):\n",
    "        if possibleOptions[i] == length:\n",
    "            correct = i\n",
    "            break\n",
    "    if correct == None:\n",
    "        return\n",
    "    #fikseerime numbrid\n",
    "    sortedSquares = fixNumbers(allFound)\n",
    "    fullMatrix = []\n",
    "    possibleRows = [6,8,10,15]\n",
    "    rowLength = possibleRows[correct]\n",
    "    #viime ridadesse vastava reapikkuse kaupa\n",
    "    for i in range(rowLength):\n",
    "        row = [t[2] for t in sortedSquares[i*rowLength:i*rowLength+rowLength]]\n",
    "        fullMatrix.append(row)\n",
    "    return fullMatrix"
   ]
  },
  {
   "cell_type": "code",
   "execution_count": 8,
   "id": "a23da91c",
   "metadata": {},
   "outputs": [],
   "source": [
    "#pytesseractiga numbrite leidmine\n",
    "def findNumbers(img):\n",
    "    h, w, c = img.shape\n",
    "    #ainult numbreid 0st 9ni leidmine\n",
    "    string = pytesseract.image_to_string(img,config='digits')\n",
    "    \"\"\"\n",
    "    boxes = pytesseract.image_to_boxes(img)\n",
    "    for b in boxes.splitlines():\n",
    "        b = b.split(' ')\n",
    "        img = cv.rectangle(img, (int(b[1]), h - int(b[2])), (int(b[3]), h - int(b[4])), (0, 255, 0), 2)\n",
    "    plt.imshow(img)\n",
    "    \"\"\"\n",
    "    #viime järjendisse\n",
    "    horizontal = [int(i) for i in list(string.strip())]\n",
    "    return horizontal\n",
    "    "
   ]
  },
  {
   "cell_type": "code",
   "execution_count": 9,
   "id": "8a7688f5",
   "metadata": {},
   "outputs": [
    {
     "name": "stdout",
     "output_type": "stream",
     "text": [
      "[[None, None, 1, None, None, None], [2, None, None, None, None, None], [5, None, None, None, None, None], [None, None, None, 5, None, None], [None, None, None, None, None, None], [None, None, None, None, None, None]]\n"
     ]
    }
   ],
   "source": [
    "print(coordinatesToArray(currentPuzzle))"
   ]
  },
  {
   "cell_type": "code",
   "execution_count": 10,
   "id": "4888f1c2",
   "metadata": {},
   "outputs": [
    {
     "data": {
      "text/plain": [
       "[3, 0, 2, 1, 2, 2]"
      ]
     },
     "execution_count": 10,
     "metadata": {},
     "output_type": "execute_result"
    }
   ],
   "source": [
    "findNumbers(img_rgb)"
   ]
  },
  {
   "cell_type": "code",
   "execution_count": null,
   "id": "7fb548ad",
   "metadata": {},
   "outputs": [],
   "source": []
  }
 ],
 "metadata": {
  "kernelspec": {
   "display_name": "Python 3 (ipykernel)",
   "language": "python",
   "name": "python3"
  },
  "language_info": {
   "codemirror_mode": {
    "name": "ipython",
    "version": 3
   },
   "file_extension": ".py",
   "mimetype": "text/x-python",
   "name": "python",
   "nbconvert_exporter": "python",
   "pygments_lexer": "ipython3",
   "version": "3.9.13"
  }
 },
 "nbformat": 4,
 "nbformat_minor": 5
}
